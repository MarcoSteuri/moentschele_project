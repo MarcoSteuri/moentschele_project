{
 "cells": [
  {
   "cell_type": "code",
   "execution_count": null,
   "metadata": {},
   "outputs": [],
   "source": [
    "# load modules\n",
    "import pandas as pd\n",
    "import numpy as np\n",
    "import matplotlib.pyplot as plt\n",
    "import os\n",
    "import cv2"
   ]
  },
  {
   "cell_type": "code",
   "execution_count": null,
   "metadata": {},
   "outputs": [],
   "source": [
    "# fun to crop img\n",
    "def fn_crop_image(img_array, y_start, x_start):\n",
    "    y_heigth = 80\n",
    "    x_width = 110\n",
    "    \n",
    "    crop_image = img_array[y_start:y_start+y_heigth,x_start:x_start+x_width] # set RGB to 0 to only analyze red chanel\n",
    "    return crop_image\n",
    "\n",
    "# fun to resize img\n",
    "# to do if further dimension reduction is desired\n",
    "    "
   ]
  },
  {
   "cell_type": "code",
   "execution_count": null,
   "metadata": {},
   "outputs": [],
   "source": [
    "# define data directory\n",
    "DATADIR = \"../data/Originals/\"\n",
    "\n",
    "# import labels\n",
    "label_df = pd.read_csv(\"../data/labels_old_camera.csv\")\n",
    "label_df = label_df.rename(columns={\"Unnamed: 0\": \"img\"})\n",
    "\n",
    "# retain only labels / img with meaningful label\n",
    "label_df = label_df[label_df[\"wind_force\"] != \"0\"]\n",
    "\n",
    "# array with img names of labeled img\n",
    "labeled_img = label_df[\"img\"].to_numpy()\n",
    "\n",
    "# create numeric wind force variable\n",
    "label_df[\"wind_force_num\"] = np.where(label_df[\"wind_force\"] == \"n\", 0,\n",
    "                             np.where(label_df[\"wind_force\"] == \"w\", 1,\n",
    "                             np.where(label_df[\"wind_force\"] == \"m\", 2,\n",
    "                             np.where(label_df[\"wind_force\"] == \"s\", 3, -1))))\n"
   ]
  },
  {
   "cell_type": "code",
   "execution_count": null,
   "metadata": {},
   "outputs": [],
   "source": [
    "training_data = []\n",
    "\n",
    "def create_training_data():\n",
    "    for img in labeled_img:\n",
    "        path = os.path.join(DATADIR, img)\n",
    "        img_array = cv2.imread(os.path.join(path))\n",
    "        img_array = cv2.cvtColor(img_array, cv2.COLOR_BGR2RGB) # from BGR to RGB\n",
    "        new_array = fn_crop_image(img_array, 230, 570)\n",
    "        wind_label = label_df.loc[label_df[\"img\"] == img, \"wind_force_num\"] # get label to coresponding img\n",
    "        wind_label = np.ndarray.item(wind_label.to_numpy()) # convert to single scalar integer\n",
    "        training_data.append([new_array, wind_label])\n",
    "    \n",
    "create_training_data()"
   ]
  },
  {
   "cell_type": "code",
   "execution_count": 220,
   "metadata": {},
   "outputs": [
    {
     "data": {
      "text/plain": [
       "(286,)"
      ]
     },
     "execution_count": 220,
     "metadata": {},
     "output_type": "execute_result"
    }
   ],
   "source": [
    "train_images = []\n",
    "train_labels = []\n",
    "\n",
    "for feature, label in training_data:\n",
    "    train_images.append(feature)\n",
    "    train_labels.append(label)\n",
    "\n",
    "# mutate to np.array\n",
    "X_train = np.array(train_images).reshape(-1, np.array(train_images).shape[1], np.array(train_images).shape[2], np.array(train_images).shape[3])\n",
    "y_train = np.array(train_labels)\n"
   ]
  },
  {
   "cell_type": "code",
   "execution_count": null,
   "metadata": {},
   "outputs": [],
   "source": [
    "# Notes\n",
    "\n",
    "# X_train=train_images[:5000,:].reshape(5000,-1)\n",
    "# y_train=train_labels[:5000]\n",
    "# X_test=test_images[:1000,:].reshape(1000,-1)\n",
    "# y_test=test_labels[:1000]\n",
    "# x_train, x_test, y_train, y_test = train_test_split(x, y, test_size=0.2)"
   ]
  }
 ],
 "metadata": {
  "kernelspec": {
   "display_name": "Python 3.10.0 ('.venv': venv)",
   "language": "python",
   "name": "python3"
  },
  "language_info": {
   "codemirror_mode": {
    "name": "ipython",
    "version": 3
   },
   "file_extension": ".py",
   "mimetype": "text/x-python",
   "name": "python",
   "nbconvert_exporter": "python",
   "pygments_lexer": "ipython3",
   "version": "3.10.0"
  },
  "orig_nbformat": 4,
  "vscode": {
   "interpreter": {
    "hash": "7f44b44d68a700e5b8be34ad04edcf354d17d796ea217a5d566d9512e73938bb"
   }
  }
 },
 "nbformat": 4,
 "nbformat_minor": 2
}
