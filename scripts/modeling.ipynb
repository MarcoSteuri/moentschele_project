{
 "cells": [
  {
   "cell_type": "code",
   "execution_count": 1,
   "metadata": {},
   "outputs": [],
   "source": [
    "# load modules\n",
    "import pandas as pd\n",
    "import numpy as np\n",
    "import matplotlib.pyplot as plt\n",
    "import os\n",
    "import cv2\n",
    "from time import sleep\n",
    "from IPython.display import clear_output\n",
    "from collections import Counter"
   ]
  },
  {
   "cell_type": "code",
   "execution_count": 2,
   "metadata": {},
   "outputs": [],
   "source": [
    "#Define wind force class names\n",
    "wind_force_class_names = [\"No wind\",\"Weak wind force\",\"Middle wind force\",\"Strong wind force\"]"
   ]
  },
  {
   "cell_type": "code",
   "execution_count": 3,
   "metadata": {},
   "outputs": [],
   "source": [
    "# fun to crop img\n",
    "def fn_crop_image(img_array, y_start, x_start):\n",
    "    y_heigth = 60\n",
    "    x_width = 110\n",
    "    \n",
    "    crop_image = img_array[y_start:y_start+y_heigth,x_start:x_start+x_width] # set RGB to 0 to only analyze red chanel\n",
    "    return crop_image\n",
    "\n",
    "# fun to resize img\n",
    "# to do if further dimension reduction is desired\n",
    "    "
   ]
  },
  {
   "cell_type": "code",
   "execution_count": 4,
   "metadata": {},
   "outputs": [],
   "source": [
    "# define data directory\n",
    "DATADIR = \"../data/Originals/\"\n",
    "\n",
    "# import labels\n",
    "label_df = pd.read_csv(\"../data/labels_old_camera.csv\")\n",
    "label_df = label_df.rename(columns={\"Unnamed: 0\": \"img\"})\n",
    "\n",
    "# retain only labels / img with meaningful label\n",
    "label_df = label_df[label_df[\"wind_force\"] != \"0\"]\n",
    "\n",
    "# array with img names of labeled img\n",
    "labeled_img = label_df[\"img\"].to_numpy()\n",
    "\n",
    "# create numeric wind force variable\n",
    "label_df[\"wind_force_num\"] = np.where(label_df[\"wind_force\"] == \"n\", 0,\n",
    "                             np.where(label_df[\"wind_force\"] == \"w\", 1,\n",
    "                             np.where(label_df[\"wind_force\"] == \"m\", 2,\n",
    "                             np.where(label_df[\"wind_force\"] == \"s\", 3, -1))))\n"
   ]
  },
  {
   "cell_type": "code",
   "execution_count": 5,
   "metadata": {},
   "outputs": [
    {
     "name": "stdout",
     "output_type": "stream",
     "text": [
      "factors for 0,1,2,3 category: (5, 1, 2, 23)\n"
     ]
    }
   ],
   "source": [
    "#Create Training Data\n",
    "training_data = []\n",
    "\n",
    "#Set True to harmonize amount of pictures per label (multiply pictures and labels)\n",
    "harmonize = True\n",
    "# Get count per label value and calculate factors for harmonizing amounts\n",
    "label_value_counts = label_df[\"wind_force_num\"].value_counts()\n",
    "\n",
    "maxLabels = label_value_counts.max()\n",
    "factor0 = round(maxLabels / label_value_counts.loc[0])\n",
    "factor1 = round(maxLabels / label_value_counts.loc[1])\n",
    "factor2 = round(maxLabels / label_value_counts.loc[2])\n",
    "factor3 = round(maxLabels / label_value_counts.loc[3])\n",
    "if harmonize:\n",
    "  print(f\"factors for 0,1,2,3 category: {factor0,factor1,factor2,factor3}\")\n",
    "\n",
    "\n",
    "def create_training_data():\n",
    "    for img in labeled_img:\n",
    "        path = os.path.join(DATADIR, img)\n",
    "        img_array = cv2.imread(os.path.join(path))\n",
    "        img_array = cv2.cvtColor(img_array, cv2.COLOR_BGR2RGB) # from BGR to RGB\n",
    "        new_array = fn_crop_image(img_array, 250, 570)\n",
    "        wind_label = label_df.loc[label_df[\"img\"] == img, \"wind_force_num\"] # get label to coresponding img\n",
    "        wind_label = np.ndarray.item(wind_label.to_numpy()) # convert to single scalar integer\n",
    "        if harmonize:\n",
    "          if wind_label == 0: #No wind\n",
    "            for i in range(factor0):\n",
    "              training_data.append([new_array, wind_label])\n",
    "          if wind_label == 1: #Middle wind\n",
    "            for i in range(factor1):\n",
    "              training_data.append([new_array, wind_label])\n",
    "          if wind_label == 2: #Middle wind\n",
    "            for i in range(factor2):\n",
    "              training_data.append([new_array, wind_label])\n",
    "          if wind_label == 3: #Strong wind\n",
    "            for i in range(factor3):\n",
    "              training_data.append([new_array, wind_label])\n",
    "        else:\n",
    "          training_data.append([new_array, wind_label])\n",
    "    \n",
    "create_training_data()"
   ]
  },
  {
   "cell_type": "code",
   "execution_count": 6,
   "metadata": {},
   "outputs": [
    {
     "data": {
      "text/plain": [
       "Counter({1: 162, 0: 155, 2: 136, 3: 161})"
      ]
     },
     "execution_count": 6,
     "metadata": {},
     "output_type": "execute_result"
    }
   ],
   "source": [
    "images = []\n",
    "labels = []\n",
    "\n",
    "for feature, label in training_data:\n",
    "    images.append(feature)\n",
    "    labels.append(label)\n",
    "\n",
    "# mutate to np.array\n",
    "np_images = np.array(images).reshape(-1, np.array(images).shape[1], np.array(images).shape[2], np.array(images).shape[3])\n",
    "np_labels = np.array(labels)\n",
    "\n",
    "#Check counts of labels\n",
    "Counter(np_labels)\n"
   ]
  },
  {
   "cell_type": "markdown",
   "metadata": {},
   "source": [
    "Train Machine Learning Models"
   ]
  },
  {
   "cell_type": "code",
   "execution_count": 7,
   "metadata": {},
   "outputs": [],
   "source": [
    "from sklearn import linear_model\n",
    "from sklearn import tree\n",
    "from sklearn import ensemble\n",
    "\n",
    "from sklearn.datasets import make_blobs\n",
    "from sklearn.model_selection import train_test_split\n",
    "from sklearn import metrics\n",
    "from sklearn.inspection import permutation_importance\n",
    "\n",
    "# common visualization module\n",
    "#import plotly.express as px\n",
    "#import seaborn as sns\n",
    "#sns.set()\n",
    "\n",
    "from time import time as timer\n",
    "import tarfile\n",
    "\n",
    "#import tensorflow as tf\n",
    "\n",
    "%matplotlib inline\n",
    "from matplotlib import animation\n",
    "from IPython.display import HTML"
   ]
  },
  {
   "cell_type": "code",
   "execution_count": 8,
   "metadata": {},
   "outputs": [
    {
     "name": "stdout",
     "output_type": "stream",
     "text": [
      "np_images shape: (614, 60, 110, 3)\n",
      "np_images_red shape: (614, 60, 110)\n",
      "np_images_red_flatten shape: (614, 6600)\n",
      "np_labels shape: (614,)\n"
     ]
    }
   ],
   "source": [
    "#Convert image shape and split to train and test set\n",
    "label_amount = np_labels.size\n",
    "\n",
    "print(f\"np_images shape: {np_images.shape}\")\n",
    "np_images_red = np_images[:,:,:,0] #reduce to red channel\n",
    "print(f\"np_images_red shape: {np_images_red.shape}\")\n",
    "\n",
    "np_images_red_flatten = np_images_red[:label_amount,:].reshape(label_amount,-1)\n",
    "print(f\"np_images_red_flatten shape: {np_images_red_flatten.shape}\")\n",
    "\n",
    "#1) Split into train and test set: HEADS-UP: RANDOM_STATE set to 7 for reproducable results..\n",
    "x_train, x_test, y_train, y_test = train_test_split(np_images_red_flatten, np_labels, test_size=0.2,random_state=7)\n",
    "\n",
    "print(f\"np_labels shape: {np_labels.shape}\")"
   ]
  },
  {
   "cell_type": "code",
   "execution_count": 9,
   "metadata": {},
   "outputs": [
    {
     "name": "stdout",
     "output_type": "stream",
     "text": [
      "training accuracy : 1.000 (multinomial)\n",
      "Test accuracy : 0.992 (multinomial)\n"
     ]
    },
    {
     "name": "stderr",
     "output_type": "stream",
     "text": [
      "/Users/Christine/OneDrive/Dokumente/CAS Data Science/M3 Machine Learning Moentschele/SourceCodeMoentschele/MoentscheleSourceCode/moentschele_project/.venv/lib/python3.9/site-packages/sklearn/linear_model/_sag.py:350: ConvergenceWarning: The max_iter was reached which means the coef_ did not converge\n",
      "  warnings.warn(\n"
     ]
    }
   ],
   "source": [
    "#Linear Model - Logistic Regression\n",
    "#1 Create classifier\n",
    "multi_class='multinomial'\n",
    "clf = linear_model.LogisticRegression(solver='sag', max_iter=200, multi_class='multinomial', )\n",
    "# fit the model\n",
    "clf.fit(x_train, y_train)\n",
    "#print(x_train.shape) --> \n",
    "\n",
    "#Evaluate accuracy on train and test datasets\n",
    "print(\"training accuracy : %.3f (%s)\" % (clf.score(x_train, y_train), multi_class))\n",
    "print(\"Test accuracy : %.3f (%s)\" % (clf.score(x_test, y_test), multi_class))"
   ]
  },
  {
   "cell_type": "code",
   "execution_count": 15,
   "metadata": {},
   "outputs": [
    {
     "data": {
      "text/plain": [
       "[51]"
      ]
     },
     "execution_count": 15,
     "metadata": {},
     "output_type": "execute_result"
    }
   ],
   "source": [
    "#Check wrong predictions\n",
    "y_test_pred = clf.predict(x_test)\n",
    "\n",
    "wrong_pred = []\n",
    "for i in range(y_test.size):\n",
    "  if y_test[i] != y_test_pred[i]:\n",
    "    wrong_pred.append(i)\n",
    "wrong_pred"
   ]
  },
  {
   "cell_type": "code",
   "execution_count": 16,
   "metadata": {},
   "outputs": [
    {
     "name": "stdout",
     "output_type": "stream",
     "text": [
      "Label: Weak wind force\n",
      "Prediction: No wind\n",
      "Sorry, not correct!\n"
     ]
    },
    {
     "data": {
      "image/png": "[encoded data removed]",
      "text/plain": [
       "<Figure size 640x480 with 1 Axes>"
      ]
     },
     "metadata": {},
     "output_type": "display_data"
    }
   ],
   "source": [
    "#Have a look at predicitions\n",
    "idx = 51\n",
    "plt.grid(False)\n",
    "plt.imshow(x_test[idx].reshape(60,110),cmap='gray')\n",
    "c_true = y_test[idx]\n",
    "c_pred = y_test_pred[idx]\n",
    "print('Label:', wind_force_class_names[c_true])\n",
    "print('Prediction:', wind_force_class_names[c_pred])\n",
    "#To do: can we somehow find out the original filename. Would be nice to correct wrong labels..\n",
    "if c_true == c_pred:\n",
    "  print('Hurray! :-)')\n",
    "else:\n",
    "  print('Sorry, not correct!')"
   ]
  },
  {
   "cell_type": "code",
   "execution_count": 17,
   "metadata": {},
   "outputs": [
    {
     "data": {
      "text/plain": [
       "[<matplotlib.lines.Line2D at 0x7f8277342550>]"
      ]
     },
     "execution_count": 17,
     "metadata": {},
     "output_type": "execute_result"
    },
    {
     "data": {
      "image/png": "[encoded data removed]",
      "text/plain": [
       "<Figure size 640x480 with 1 Axes>"
      ]
     },
     "metadata": {},
     "output_type": "display_data"
    }
   ],
   "source": [
    "#Plot probabilities for previously selected idx:\n",
    "y_test_pred_p = clf.predict_proba(x_test)\n",
    "plt.plot(wind_force_class_names, y_test_pred_p[idx])"
   ]
  }
 ],
 "metadata": {
  "kernelspec": {
   "display_name": "Python 3.9.12 ('.venv': venv)",
   "language": "python",
   "name": "python3"
  },
  "language_info": {
   "codemirror_mode": {
    "name": "ipython",
    "version": 3
   },
   "file_extension": ".py",
   "mimetype": "text/x-python",
   "name": "python",
   "nbconvert_exporter": "python",
   "pygments_lexer": "ipython3",
   "version": "3.9.12"
  },
  "orig_nbformat": 4,
  "vscode": {
   "interpreter": {
    "hash": "72d4e0b54be9eae5ed039507414675042dad20064cea630b94182a35294ddd3e"
   }
  }
 },
 "nbformat": 4,
 "nbformat_minor": 2
}
