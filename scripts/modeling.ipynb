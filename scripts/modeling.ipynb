{
 "cells": [
  {
   "cell_type": "code",
   "execution_count": 8,
   "metadata": {},
   "outputs": [],
   "source": [
    "# load modules\n",
    "\n",
    "from os import listdir\n",
    "from os.path import isfile, join\n",
    "from PIL import Image\n",
    "from skimage import color\n",
    "from skimage import io\n",
    "import matplotlib.image as mpimg\n",
    "import matplotlib.pyplot as plt\n",
    "import pandas as pd\n",
    "import numpy as np\n",
    "from scipy import ndimage\n",
    "\n",
    "\n",
    "folder = \"../data/Originas/\""
   ]
  },
  {
   "cell_type": "code",
   "execution_count": 9,
   "metadata": {},
   "outputs": [
    {
     "ename": "FileNotFoundError",
     "evalue": "[Errno 2] No such file or directory: 'data/Originas/'",
     "output_type": "error",
     "traceback": [
      "\u001b[0;31m---------------------------------------------------------------------------\u001b[0m",
      "\u001b[0;31mFileNotFoundError\u001b[0m                         Traceback (most recent call last)",
      "Cell \u001b[0;32mIn [9], line 1\u001b[0m\n\u001b[0;32m----> 1\u001b[0m onlyfiles \u001b[39m=\u001b[39m [ f \u001b[39mfor\u001b[39;00m f \u001b[39min\u001b[39;00m listdir(folder) \u001b[39mif\u001b[39;00m isfile(join(folder,f)) ]\n",
      "\u001b[0;31mFileNotFoundError\u001b[0m: [Errno 2] No such file or directory: 'data/Originas/'"
     ]
    }
   ],
   "source": [
    "onlyfiles = [ f for f in listdir(folder) if isfile(join(folder,f)) ]\n"
   ]
  },
  {
   "cell_type": "code",
   "execution_count": 10,
   "metadata": {},
   "outputs": [
    {
     "data": {
      "text/plain": [
       "array([['D20220927_085354_5493.jpg', '0', '0'],\n",
       "       ['D20220927_085854_5835.jpg', '0', '0'],\n",
       "       ['D20220927_090854_6518.jpg', 'r', 'w'],\n",
       "       ...,\n",
       "       ['D20220920_101747_2305.jpg', '0', '0'],\n",
       "       ['D20220920_102247_2646.jpg', 'r', 'w'],\n",
       "       ['D20220920_102747_2987.jpg', 'l', 'w']], dtype=object)"
      ]
     },
     "execution_count": 10,
     "metadata": {},
     "output_type": "execute_result"
    }
   ],
   "source": [
    "# read in labeling (train_label)\n",
    "label_df = pd.read_csv(\"../data/labels_old_camera.csv\")\n",
    "label_df = label_df.rename(columns={\"Unnamed: 0\": \"img\"})\n",
    "label_df = label_df.to_numpy()\n",
    "label_df\n"
   ]
  },
  {
   "cell_type": "code",
   "execution_count": null,
   "metadata": {},
   "outputs": [],
   "source": [
    "im = io.imread(\"../data/Originals/\"+label_df[60,0])\n",
    "#print(im.shape, im.dtype, type(im))\n",
    "img_zoom = im[220:310,570:680,:]\n",
    "img_z_grey = color.rgb2gray(img_zoom)\n",
    "#plt.imshow(im[220:310,570:680,:]) # display the image\n",
    "plt.imshow(img_z_grey, cmap='gray')\n",
    "plt.imshow(img_zoom)\n",
    "plt.show()\n",
    "print(img_z_grey.shape, img_z_grey.dtype, type(img_z_grey))\n"
   ]
  },
  {
   "cell_type": "code",
   "execution_count": null,
   "metadata": {},
   "outputs": [],
   "source": [
    "im1 = io.imread(\"../data/Originals/\"+label_df[0,0])\n",
    "#print(im.shape, im.dtype, type(im))\n",
    "img_z1 = im1[220:310,570:680,:]\n",
    "\n",
    "im2 = io.imread(\"../data/Originals/\"+label_df[1,0])\n",
    "#print(im.shape, im.dtype, type(im))\n",
    "img_z2 = im2[220:310,570:680,:]"
   ]
  },
  {
   "cell_type": "code",
   "execution_count": null,
   "metadata": {},
   "outputs": [],
   "source": [
    "joined = np.stack((img_z1, img_z2, img_z1))\n",
    "joined = np.stack(joined, img_z1)"
   ]
  },
  {
   "cell_type": "code",
   "execution_count": null,
   "metadata": {},
   "outputs": [],
   "source": []
  }
 ],
 "metadata": {
  "kernelspec": {
   "display_name": "Python 3.10.0 ('.venv': venv)",
   "language": "python",
   "name": "python3"
  },
  "language_info": {
   "codemirror_mode": {
    "name": "ipython",
    "version": 3
   },
   "file_extension": ".py",
   "mimetype": "text/x-python",
   "name": "python",
   "nbconvert_exporter": "python",
   "pygments_lexer": "ipython3",
   "version": "3.10.0"
  },
  "orig_nbformat": 4,
  "vscode": {
   "interpreter": {
    "hash": "7f44b44d68a700e5b8be34ad04edcf354d17d796ea217a5d566d9512e73938bb"
   }
  }
 },
 "nbformat": 4,
 "nbformat_minor": 2
}
